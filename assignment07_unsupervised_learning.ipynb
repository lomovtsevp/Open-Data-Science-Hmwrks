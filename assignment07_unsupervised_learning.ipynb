{
  "nbformat": 4,
  "nbformat_minor": 0,
  "metadata": {
    "anaconda-cloud": {},
    "kernelspec": {
      "name": "python3",
      "display_name": "Python 3",
      "language": "python"
    },
    "language_info": {
      "name": "python",
      "version": "3.7.10",
      "mimetype": "text/x-python",
      "codemirror_mode": {
        "name": "ipython",
        "version": 3
      },
      "pygments_lexer": "ipython3",
      "nbconvert_exporter": "python",
      "file_extension": ".py"
    },
    "colab": {
      "name": "assignment07_unsupervised_learning.ipynb",
      "provenance": [],
      "collapsed_sections": [],
      "include_colab_link": true
    },
    "widgets": {
      "application/vnd.jupyter.widget-state+json": {
        "218aed2843b94ae38a80bccad6ea2a9a": {
          "model_module": "@jupyter-widgets/controls",
          "model_name": "HBoxModel",
          "model_module_version": "1.5.0",
          "state": {
            "_view_name": "HBoxView",
            "_dom_classes": [],
            "_model_name": "HBoxModel",
            "_view_module": "@jupyter-widgets/controls",
            "_model_module_version": "1.5.0",
            "_view_count": null,
            "_view_module_version": "1.5.0",
            "box_style": "",
            "layout": "IPY_MODEL_1d9b8b7e0bd9429caf0518f5d9c70ba8",
            "_model_module": "@jupyter-widgets/controls",
            "children": [
              "IPY_MODEL_047ef7db9bd9447b8deecdae73b3ee18",
              "IPY_MODEL_1afc0580a3e140d9b2f26ff63db5df4d",
              "IPY_MODEL_45bc6f492ec84964baeaab80b90c7114"
            ]
          }
        },
        "1d9b8b7e0bd9429caf0518f5d9c70ba8": {
          "model_module": "@jupyter-widgets/base",
          "model_name": "LayoutModel",
          "model_module_version": "1.2.0",
          "state": {
            "_view_name": "LayoutView",
            "grid_template_rows": null,
            "right": null,
            "justify_content": null,
            "_view_module": "@jupyter-widgets/base",
            "overflow": null,
            "_model_module_version": "1.2.0",
            "_view_count": null,
            "flex_flow": null,
            "width": null,
            "min_width": null,
            "border": null,
            "align_items": null,
            "bottom": null,
            "_model_module": "@jupyter-widgets/base",
            "top": null,
            "grid_column": null,
            "overflow_y": null,
            "overflow_x": null,
            "grid_auto_flow": null,
            "grid_area": null,
            "grid_template_columns": null,
            "flex": null,
            "_model_name": "LayoutModel",
            "justify_items": null,
            "grid_row": null,
            "max_height": null,
            "align_content": null,
            "visibility": null,
            "align_self": null,
            "height": null,
            "min_height": null,
            "padding": null,
            "grid_auto_rows": null,
            "grid_gap": null,
            "max_width": null,
            "order": null,
            "_view_module_version": "1.2.0",
            "grid_template_areas": null,
            "object_position": null,
            "object_fit": null,
            "grid_auto_columns": null,
            "margin": null,
            "display": null,
            "left": null
          }
        },
        "047ef7db9bd9447b8deecdae73b3ee18": {
          "model_module": "@jupyter-widgets/controls",
          "model_name": "HTMLModel",
          "model_module_version": "1.5.0",
          "state": {
            "_view_name": "HTMLView",
            "style": "IPY_MODEL_90ccb736c4374845a1b687ee5f692b59",
            "_dom_classes": [],
            "description": "",
            "_model_name": "HTMLModel",
            "placeholder": "​",
            "_view_module": "@jupyter-widgets/controls",
            "_model_module_version": "1.5.0",
            "value": "100%",
            "_view_count": null,
            "_view_module_version": "1.5.0",
            "description_tooltip": null,
            "_model_module": "@jupyter-widgets/controls",
            "layout": "IPY_MODEL_763cf101f86444f988dbcadf41afc8c5"
          }
        },
        "1afc0580a3e140d9b2f26ff63db5df4d": {
          "model_module": "@jupyter-widgets/controls",
          "model_name": "FloatProgressModel",
          "model_module_version": "1.5.0",
          "state": {
            "_view_name": "ProgressView",
            "style": "IPY_MODEL_454c7e2a45d74dc484a90753f38c2f3a",
            "_dom_classes": [],
            "description": "",
            "_model_name": "FloatProgressModel",
            "bar_style": "success",
            "max": 6,
            "_view_module": "@jupyter-widgets/controls",
            "_model_module_version": "1.5.0",
            "value": 6,
            "_view_count": null,
            "_view_module_version": "1.5.0",
            "orientation": "horizontal",
            "min": 0,
            "description_tooltip": null,
            "_model_module": "@jupyter-widgets/controls",
            "layout": "IPY_MODEL_1044c22444c24ab0ae159be7e0f4b362"
          }
        },
        "45bc6f492ec84964baeaab80b90c7114": {
          "model_module": "@jupyter-widgets/controls",
          "model_name": "HTMLModel",
          "model_module_version": "1.5.0",
          "state": {
            "_view_name": "HTMLView",
            "style": "IPY_MODEL_ab32ce6dbc924be98e1edcb2a07b05f6",
            "_dom_classes": [],
            "description": "",
            "_model_name": "HTMLModel",
            "placeholder": "​",
            "_view_module": "@jupyter-widgets/controls",
            "_model_module_version": "1.5.0",
            "value": " 6/6 [00:01&lt;00:00,  3.03it/s]",
            "_view_count": null,
            "_view_module_version": "1.5.0",
            "description_tooltip": null,
            "_model_module": "@jupyter-widgets/controls",
            "layout": "IPY_MODEL_1dff8e2409984c57bc8a53c23c30762c"
          }
        },
        "90ccb736c4374845a1b687ee5f692b59": {
          "model_module": "@jupyter-widgets/controls",
          "model_name": "DescriptionStyleModel",
          "model_module_version": "1.5.0",
          "state": {
            "_view_name": "StyleView",
            "_model_name": "DescriptionStyleModel",
            "description_width": "",
            "_view_module": "@jupyter-widgets/base",
            "_model_module_version": "1.5.0",
            "_view_count": null,
            "_view_module_version": "1.2.0",
            "_model_module": "@jupyter-widgets/controls"
          }
        },
        "763cf101f86444f988dbcadf41afc8c5": {
          "model_module": "@jupyter-widgets/base",
          "model_name": "LayoutModel",
          "model_module_version": "1.2.0",
          "state": {
            "_view_name": "LayoutView",
            "grid_template_rows": null,
            "right": null,
            "justify_content": null,
            "_view_module": "@jupyter-widgets/base",
            "overflow": null,
            "_model_module_version": "1.2.0",
            "_view_count": null,
            "flex_flow": null,
            "width": null,
            "min_width": null,
            "border": null,
            "align_items": null,
            "bottom": null,
            "_model_module": "@jupyter-widgets/base",
            "top": null,
            "grid_column": null,
            "overflow_y": null,
            "overflow_x": null,
            "grid_auto_flow": null,
            "grid_area": null,
            "grid_template_columns": null,
            "flex": null,
            "_model_name": "LayoutModel",
            "justify_items": null,
            "grid_row": null,
            "max_height": null,
            "align_content": null,
            "visibility": null,
            "align_self": null,
            "height": null,
            "min_height": null,
            "padding": null,
            "grid_auto_rows": null,
            "grid_gap": null,
            "max_width": null,
            "order": null,
            "_view_module_version": "1.2.0",
            "grid_template_areas": null,
            "object_position": null,
            "object_fit": null,
            "grid_auto_columns": null,
            "margin": null,
            "display": null,
            "left": null
          }
        },
        "454c7e2a45d74dc484a90753f38c2f3a": {
          "model_module": "@jupyter-widgets/controls",
          "model_name": "ProgressStyleModel",
          "model_module_version": "1.5.0",
          "state": {
            "_view_name": "StyleView",
            "_model_name": "ProgressStyleModel",
            "description_width": "",
            "_view_module": "@jupyter-widgets/base",
            "_model_module_version": "1.5.0",
            "_view_count": null,
            "_view_module_version": "1.2.0",
            "bar_color": null,
            "_model_module": "@jupyter-widgets/controls"
          }
        },
        "1044c22444c24ab0ae159be7e0f4b362": {
          "model_module": "@jupyter-widgets/base",
          "model_name": "LayoutModel",
          "model_module_version": "1.2.0",
          "state": {
            "_view_name": "LayoutView",
            "grid_template_rows": null,
            "right": null,
            "justify_content": null,
            "_view_module": "@jupyter-widgets/base",
            "overflow": null,
            "_model_module_version": "1.2.0",
            "_view_count": null,
            "flex_flow": null,
            "width": null,
            "min_width": null,
            "border": null,
            "align_items": null,
            "bottom": null,
            "_model_module": "@jupyter-widgets/base",
            "top": null,
            "grid_column": null,
            "overflow_y": null,
            "overflow_x": null,
            "grid_auto_flow": null,
            "grid_area": null,
            "grid_template_columns": null,
            "flex": null,
            "_model_name": "LayoutModel",
            "justify_items": null,
            "grid_row": null,
            "max_height": null,
            "align_content": null,
            "visibility": null,
            "align_self": null,
            "height": null,
            "min_height": null,
            "padding": null,
            "grid_auto_rows": null,
            "grid_gap": null,
            "max_width": null,
            "order": null,
            "_view_module_version": "1.2.0",
            "grid_template_areas": null,
            "object_position": null,
            "object_fit": null,
            "grid_auto_columns": null,
            "margin": null,
            "display": null,
            "left": null
          }
        },
        "ab32ce6dbc924be98e1edcb2a07b05f6": {
          "model_module": "@jupyter-widgets/controls",
          "model_name": "DescriptionStyleModel",
          "model_module_version": "1.5.0",
          "state": {
            "_view_name": "StyleView",
            "_model_name": "DescriptionStyleModel",
            "description_width": "",
            "_view_module": "@jupyter-widgets/base",
            "_model_module_version": "1.5.0",
            "_view_count": null,
            "_view_module_version": "1.2.0",
            "_model_module": "@jupyter-widgets/controls"
          }
        },
        "1dff8e2409984c57bc8a53c23c30762c": {
          "model_module": "@jupyter-widgets/base",
          "model_name": "LayoutModel",
          "model_module_version": "1.2.0",
          "state": {
            "_view_name": "LayoutView",
            "grid_template_rows": null,
            "right": null,
            "justify_content": null,
            "_view_module": "@jupyter-widgets/base",
            "overflow": null,
            "_model_module_version": "1.2.0",
            "_view_count": null,
            "flex_flow": null,
            "width": null,
            "min_width": null,
            "border": null,
            "align_items": null,
            "bottom": null,
            "_model_module": "@jupyter-widgets/base",
            "top": null,
            "grid_column": null,
            "overflow_y": null,
            "overflow_x": null,
            "grid_auto_flow": null,
            "grid_area": null,
            "grid_template_columns": null,
            "flex": null,
            "_model_name": "LayoutModel",
            "justify_items": null,
            "grid_row": null,
            "max_height": null,
            "align_content": null,
            "visibility": null,
            "align_self": null,
            "height": null,
            "min_height": null,
            "padding": null,
            "grid_auto_rows": null,
            "grid_gap": null,
            "max_width": null,
            "order": null,
            "_view_module_version": "1.2.0",
            "grid_template_areas": null,
            "object_position": null,
            "object_fit": null,
            "grid_auto_columns": null,
            "margin": null,
            "display": null,
            "left": null
          }
        }
      }
    }
  },
  "cells": [
    {
      "cell_type": "markdown",
      "metadata": {
        "id": "view-in-github",
        "colab_type": "text"
      },
      "source": [
        "<a href=\"https://colab.research.google.com/github/lompas10/Open-Data-Science-Hmwrks/blob/main/assignment07_unsupervised_learning.ipynb\" target=\"_parent\"><img src=\"https://colab.research.google.com/assets/colab-badge.svg\" alt=\"Open In Colab\"/></a>"
      ]
    },
    {
      "cell_type": "markdown",
      "metadata": {
        "id": "OtyoH1i6SnBC"
      },
      "source": [
        "\n",
        "<img src=\"../../img/ods_stickers.jpg\">\n",
        "\n",
        "## <center> [mlcourse.ai](https://mlcourse.ai) – открытый курс OpenDataScience по машинному обучению \n",
        "    \n",
        "Авторы материала: Ольга Дайховская (@aiho в Slack ODS), Юрий Кашницкий (@yorko в Slack ODS). Материал распространяется на условиях лицензии [Creative Commons CC BY-NC-SA 4.0](https://creativecommons.org/licenses/by-nc-sa/4.0/). Можно использовать в любых целях (редактировать, поправлять и брать за основу), кроме коммерческих, но с обязательным упоминанием автора материала."
      ]
    },
    {
      "cell_type": "markdown",
      "metadata": {
        "id": "yPMnRFUkSnBF"
      },
      "source": [
        "# <center>Домашнее задание № 7 (демо)\n",
        "## <center> Обучение без учителя: метод главных компонент и кластеризация"
      ]
    },
    {
      "cell_type": "markdown",
      "metadata": {
        "id": "cZyEKfE-SnBG"
      },
      "source": [
        "В этом задании мы разберемся с тем, как работают методы снижения размерности и кластеризации данных. Заодно еще раз попрактикуемся в задаче классификации.\n",
        "\n",
        "Мы будем работать с набором данных [Samsung Human Activity Recognition](https://archive.ics.uci.edu/ml/datasets/Human+Activity+Recognition+Using+Smartphones). Скачайте данные [отсюда](https://drive.google.com/file/d/14RukQ0ylM2GCdViUHBBjZ2imCaYcjlux/view?usp=sharing). Данные поступают с акселерометров и гироскопов мобильных телефонов Samsung Galaxy S3 (подробнее про признаки – по ссылке на UCI выше), также известен вид активности человека с телефоном в кармане – ходил ли он, стоял, лежал, сидел или шел вверх/вниз по лестнице. \n",
        "\n",
        "Вначале мы представим, что вид активности нам неизвестнен, и попробуем кластеризовать людей чисто на основе имеющихся признаков. Затем решим задачу определения вида физической активности именно как задачу классификации. \n",
        "\n",
        "Заполните код в клетках (где написано \"Ваш код здесь\") и ответьте на вопросы в [веб-форме](https://docs.google.com/forms/d/1qzcrfsNFy-e4TW59v2fqMj_OTom2SIOxtq4MWlI92p0)."
      ]
    },
    {
      "cell_type": "code",
      "metadata": {
        "collapsed": true,
        "trusted": false,
        "id": "DsS54dGkSnBH"
      },
      "source": [
        "import numpy as np\n",
        "import pandas as pd\n",
        "import seaborn as sns\n",
        "from tqdm import tqdm_notebook\n",
        "\n",
        "%matplotlib inline\n",
        "from matplotlib import pyplot as plt\n",
        "\n",
        "plt.style.use(['seaborn-darkgrid'])\n",
        "plt.rcParams['figure.figsize'] = (12, 9)\n",
        "plt.rcParams['font.family'] = 'DejaVu Sans'\n",
        "\n",
        "from sklearn import metrics\n",
        "from sklearn.cluster import AgglomerativeClustering, KMeans, SpectralClustering\n",
        "from sklearn.decomposition import PCA\n",
        "from sklearn.model_selection import GridSearchCV\n",
        "from sklearn.preprocessing import StandardScaler\n",
        "from sklearn.svm import LinearSVC\n",
        "\n",
        "RANDOM_STATE = 17"
      ],
      "execution_count": null,
      "outputs": []
    },
    {
      "cell_type": "code",
      "metadata": {
        "collapsed": true,
        "trusted": false,
        "id": "nC4DfvyQSnBI"
      },
      "source": [
        "X_train = np.loadtxt(\"samsung_train.txt\")\n",
        "y_train = np.loadtxt(\"samsung_train_labels.txt\").astype(int)\n",
        "\n",
        "X_test = np.loadtxt(\"samsung_test.txt\")\n",
        "y_test = np.loadtxt(\"samsung_test_labels.txt\").astype(int)"
      ],
      "execution_count": null,
      "outputs": []
    },
    {
      "cell_type": "code",
      "metadata": {
        "collapsed": true,
        "trusted": false,
        "id": "xPH2ghj6SnBJ"
      },
      "source": [
        "# Проверим размерности\n",
        "assert(X_train.shape == (7352, 561) and y_train.shape == (7352,))\n",
        "assert(X_test.shape == (2947, 561) and y_test.shape == (2947,))"
      ],
      "execution_count": null,
      "outputs": []
    },
    {
      "cell_type": "markdown",
      "metadata": {
        "id": "tKIw5f9qSnBJ"
      },
      "source": [
        "Для кластеризации нам не нужен вектор ответов, поэтому будем работать с объединением обучающей и тестовой выборок. Объедините *X_train* с *X_test*, а *y_train* – с *y_test*. "
      ]
    },
    {
      "cell_type": "code",
      "metadata": {
        "collapsed": true,
        "trusted": false,
        "id": "Aqy7XJdmSnBK"
      },
      "source": [
        "# Ваш код здесь\n",
        "X = pd.concat([pd.DataFrame(X_train), pd.DataFrame(X_test)])\n",
        "y = pd.concat([pd.Series(y_train), pd.Series(y_test)])"
      ],
      "execution_count": null,
      "outputs": []
    },
    {
      "cell_type": "markdown",
      "metadata": {
        "id": "m8QBM6mISnBK"
      },
      "source": [
        "Определим число уникальных значений меток целевого класса."
      ]
    },
    {
      "cell_type": "code",
      "metadata": {
        "trusted": false,
        "id": "wYvj3IbhSnBL",
        "colab": {
          "base_uri": "https://localhost:8080/"
        },
        "outputId": "ad08e806-cc15-4d87-e405-4f0b88858487"
      },
      "source": [
        "np.unique(y)"
      ],
      "execution_count": null,
      "outputs": [
        {
          "output_type": "execute_result",
          "data": {
            "text/plain": [
              "array([1, 2, 3, 4, 5, 6])"
            ]
          },
          "metadata": {},
          "execution_count": 15
        }
      ]
    },
    {
      "cell_type": "code",
      "metadata": {
        "collapsed": true,
        "trusted": false,
        "id": "CdNg-R2FSnBL"
      },
      "source": [
        "n_classes = np.unique(y).size"
      ],
      "execution_count": null,
      "outputs": []
    },
    {
      "cell_type": "markdown",
      "metadata": {
        "id": "cXP_UGvCSnBM"
      },
      "source": [
        "[Эти метки соответствуют:](https://archive.ics.uci.edu/ml/machine-learning-databases/00240/UCI%20HAR%20Dataset.names)\n",
        "- 1 - ходьбе\n",
        "- 2 - подъему вверх по лестнице\n",
        "- 3 - спуску по лестнице\n",
        "- 4 - сидению\n",
        "- 5 - стоянию\n",
        "- 6 - лежанию\n",
        "\n",
        "*уж простите, если звучание этих существительных кажется корявым :)*"
      ]
    },
    {
      "cell_type": "markdown",
      "metadata": {
        "id": "ZMQW5plBSnBM"
      },
      "source": [
        "Отмасштабируйте выборку с помощью `StandardScaler` с параметрами по умолчанию."
      ]
    },
    {
      "cell_type": "code",
      "metadata": {
        "collapsed": true,
        "trusted": false,
        "id": "4pC1YouNSnBM"
      },
      "source": [
        "# Ваш код здесь\n",
        "scaler = StandardScaler()\n",
        "X_scaled = scaler.fit_transform(X)"
      ],
      "execution_count": null,
      "outputs": []
    },
    {
      "cell_type": "markdown",
      "metadata": {
        "id": "AP1FCZ9PSnBM"
      },
      "source": [
        "Понижаем размерность с помощью PCA, оставляя столько компонент, сколько нужно для того, чтобы объяснить как минимум 90% дисперсии исходных (отмасштабированных) данных. Используйте отмасштабированную выборку и зафиксируйте random_state (константа RANDOM_STATE)."
      ]
    },
    {
      "cell_type": "code",
      "metadata": {
        "collapsed": true,
        "trusted": false,
        "id": "pEY8n6lGSnBN",
        "colab": {
          "base_uri": "https://localhost:8080/"
        },
        "outputId": "06ed64f6-83a3-47d7-8f89-71da1e79927f"
      },
      "source": [
        "# Ваш код здесь\n",
        "for i in range(X.shape[0]):\n",
        "  pca = PCA(n_components=i, random_state=RANDOM_STATE)\n",
        "  X_reduced = pca.fit_transform(X_scaled)\n",
        "  if sum(pca.explained_variance_ratio_) > .9:\n",
        "    break\n",
        "print(pca.n_components)"
      ],
      "execution_count": null,
      "outputs": [
        {
          "output_type": "stream",
          "text": [
            "66\n"
          ],
          "name": "stdout"
        }
      ]
    },
    {
      "cell_type": "markdown",
      "metadata": {
        "id": "4ZElAGgKSnBN"
      },
      "source": [
        "**Вопрос 1:**<br>\n",
        "Какое минимальное число главных компонент нужно выделить, чтобы объяснить 90% дисперсии исходных (отмасштабированных) данных?"
      ]
    },
    {
      "cell_type": "markdown",
      "metadata": {
        "id": "e5Ubn-nrSnBN"
      },
      "source": [
        "**Варианты:**\n",
        "- 56 \n",
        "- 65\n",
        "- 66\n",
        "- 193"
      ]
    },
    {
      "cell_type": "markdown",
      "metadata": {
        "id": "JD1Gi_PZvjsc"
      },
      "source": [
        "<font size=7>\n",
        "<font color='Green'>Ответ: 66"
      ]
    },
    {
      "cell_type": "markdown",
      "metadata": {
        "id": "CiPZxOqbSnBO"
      },
      "source": [
        "**Вопрос 2:**<br>\n",
        "Сколько процентов дисперсии приходится на первую главную компоненту? Округлите до целых процентов. \n",
        "\n",
        "**Варианты:**\n",
        "- 45\n",
        "- 51\n",
        "- 56\n",
        "- 61"
      ]
    },
    {
      "cell_type": "code",
      "metadata": {
        "collapsed": true,
        "trusted": false,
        "id": "wCBFJYd6SnBO",
        "colab": {
          "base_uri": "https://localhost:8080/"
        },
        "outputId": "45158239-537e-4645-b7a9-4a3b3c411671"
      },
      "source": [
        "round(pca.explained_variance_ratio_[0], 2)*100"
      ],
      "execution_count": null,
      "outputs": [
        {
          "output_type": "execute_result",
          "data": {
            "text/plain": [
              "51.0"
            ]
          },
          "metadata": {},
          "execution_count": 31
        }
      ]
    },
    {
      "cell_type": "markdown",
      "metadata": {
        "id": "BdY5WsT5SnBO"
      },
      "source": [
        "Визуализируйте данные в проекции на первые две главные компоненты."
      ]
    },
    {
      "cell_type": "code",
      "metadata": {
        "collapsed": true,
        "trusted": false,
        "id": "EK8-EkiDSnBO",
        "colab": {
          "base_uri": "https://localhost:8080/",
          "height": 262
        },
        "outputId": "19da45cb-8009-4a1b-df04-5f64a8c671ca"
      },
      "source": [
        "# Ваш код здесь\n",
        "plt.scatter(X_reduced[:, 0], X_reduced[:, 1], c=y, s=20, cmap='viridis');"
      ],
      "execution_count": null,
      "outputs": [
        {
          "output_type": "display_data",
          "data": {
            "image/png": "[encoded data removed]",
            "text/plain": [
              "<Figure size 432x288 with 1 Axes>"
            ]
          },
          "metadata": {
            "needs_background": "light"
          }
        }
      ]
    },
    {
      "cell_type": "markdown",
      "metadata": {
        "id": "o_wd3f_nSnBO"
      },
      "source": [
        "**Вопрос 3:**<br>\n",
        "Если все получилось правильно, Вы увидите сколько-то кластеров, почти идеально отделенных друг от друга. Какие виды активности входят в эти кластеры?<br>\n",
        "\n",
        "**Ответ:**\n",
        "- 1 кластер: все 6 активностей\n",
        "- 2 кластера: (ходьба, подъем вверх по лестнице, спуск по лестнице) и (сидение, стояние, лежание)\n",
        "- 3 кластера: (ходьба), (подъем вверх по лестнице, спуск по лестнице) и (сидение, стояние, лежание)\n",
        "- 6 кластеров"
      ]
    },
    {
      "cell_type": "markdown",
      "metadata": {
        "id": "CKJRlPJ1yBTV"
      },
      "source": [
        "<font color = 'Green'> \n",
        "<font size=7> 3 кластера"
      ]
    },
    {
      "cell_type": "markdown",
      "metadata": {
        "id": "qTvq6v2OSnBP"
      },
      "source": [
        "------------------------------"
      ]
    },
    {
      "cell_type": "markdown",
      "metadata": {
        "id": "rTBkRnpISnBP"
      },
      "source": [
        "Сделайте кластеризацию данных методом `KMeans`, обучив модель на данных со сниженной за счет PCA размерностью. В данном случае мы подскажем, что нужно искать именно 6 кластеров, но в общем случае мы не будем знать, сколько кластеров надо искать.\n",
        "\n",
        "Параметры:\n",
        "\n",
        "- **n_clusters** = n_classes (число уникальных меток целевого класса)\n",
        "- **n_init** = 100\n",
        "- **random_state** = RANDOM_STATE (для воспроизводимости результата)\n",
        "\n",
        "Остальные параметры со значениями по умолчанию."
      ]
    },
    {
      "cell_type": "code",
      "metadata": {
        "collapsed": true,
        "trusted": false,
        "id": "h-1u-ReSSnBP"
      },
      "source": [
        "kmeans = KMeans(n_clusters=6, n_init=100, random_state=RANDOM_STATE)\n",
        "X_reduced_clustered = kmeans.fit_transform(X_reduced)"
      ],
      "execution_count": null,
      "outputs": []
    },
    {
      "cell_type": "markdown",
      "metadata": {
        "id": "aa0KSJKcSnBP"
      },
      "source": [
        "Визуализируйте данные в проекции на первые две главные компоненты. Раскрасьте точки в соответствии с полученными метками кластеров."
      ]
    },
    {
      "cell_type": "code",
      "metadata": {
        "collapsed": true,
        "trusted": false,
        "id": "WLXAJsnjSnBQ",
        "colab": {
          "base_uri": "https://localhost:8080/",
          "height": 262
        },
        "outputId": "77c72b6b-5c87-46f3-875a-e69650dc8246"
      },
      "source": [
        "# Ваш код здесь\n",
        "plt.scatter(X_reduced_clustered[:,0], X_reduced_clustered[:, 1], c=kmeans.labels_, s=20,  cmap='viridis');"
      ],
      "execution_count": null,
      "outputs": [
        {
          "output_type": "display_data",
          "data": {
            "image/png": "[encoded data removed]",
            "text/plain": [
              "<Figure size 432x288 with 1 Axes>"
            ]
          },
          "metadata": {
            "needs_background": "light"
          }
        }
      ]
    },
    {
      "cell_type": "markdown",
      "metadata": {
        "id": "rxCZED74SnBQ"
      },
      "source": [
        "Посмотрите на соответствие между метками кластеров и исходными метками классов и на то, какие виды активностей алгоритм `KMeans` путает."
      ]
    },
    {
      "cell_type": "code",
      "metadata": {
        "collapsed": true,
        "trusted": false,
        "id": "_A1zqHtaSnBQ",
        "colab": {
          "base_uri": "https://localhost:8080/",
          "height": 254
        },
        "outputId": "b684e2eb-c9eb-4691-bae9-d4054c32fb8a"
      },
      "source": [
        "tab = pd.crosstab(y, kmeans.labels_, margins=True)\n",
        "tab.index = ['ходьба', 'подъем вверх по лестнице', \n",
        "             'спуск по лестнице', 'сидение', 'стояние', 'лежание', 'все']\n",
        "tab.columns = ['cluster' + str(i + 1) for i in range(6)] + ['все']\n",
        "tab"
      ],
      "execution_count": null,
      "outputs": [
        {
          "output_type": "execute_result",
          "data": {
            "text/html": [
              "<div>\n",
              "<style scoped>\n",
              "    .dataframe tbody tr th:only-of-type {\n",
              "        vertical-align: middle;\n",
              "    }\n",
              "\n",
              "    .dataframe tbody tr th {\n",
              "        vertical-align: top;\n",
              "    }\n",
              "\n",
              "    .dataframe thead th {\n",
              "        text-align: right;\n",
              "    }\n",
              "</style>\n",
              "<table border=\"1\" class=\"dataframe\">\n",
              "  <thead>\n",
              "    <tr style=\"text-align: right;\">\n",
              "      <th></th>\n",
              "      <th>cluster1</th>\n",
              "      <th>cluster2</th>\n",
              "      <th>cluster3</th>\n",
              "      <th>cluster4</th>\n",
              "      <th>cluster5</th>\n",
              "      <th>cluster6</th>\n",
              "      <th>все</th>\n",
              "    </tr>\n",
              "  </thead>\n",
              "  <tbody>\n",
              "    <tr>\n",
              "      <th>ходьба</th>\n",
              "      <td>740</td>\n",
              "      <td>0</td>\n",
              "      <td>78</td>\n",
              "      <td>904</td>\n",
              "      <td>0</td>\n",
              "      <td>0</td>\n",
              "      <td>1722</td>\n",
              "    </tr>\n",
              "    <tr>\n",
              "      <th>подъем вверх по лестнице</th>\n",
              "      <td>296</td>\n",
              "      <td>2</td>\n",
              "      <td>5</td>\n",
              "      <td>1241</td>\n",
              "      <td>0</td>\n",
              "      <td>0</td>\n",
              "      <td>1544</td>\n",
              "    </tr>\n",
              "    <tr>\n",
              "      <th>спуск по лестнице</th>\n",
              "      <td>890</td>\n",
              "      <td>0</td>\n",
              "      <td>196</td>\n",
              "      <td>320</td>\n",
              "      <td>0</td>\n",
              "      <td>0</td>\n",
              "      <td>1406</td>\n",
              "    </tr>\n",
              "    <tr>\n",
              "      <th>сидение</th>\n",
              "      <td>0</td>\n",
              "      <td>451</td>\n",
              "      <td>0</td>\n",
              "      <td>1</td>\n",
              "      <td>91</td>\n",
              "      <td>1234</td>\n",
              "      <td>1777</td>\n",
              "    </tr>\n",
              "    <tr>\n",
              "      <th>стояние</th>\n",
              "      <td>0</td>\n",
              "      <td>565</td>\n",
              "      <td>0</td>\n",
              "      <td>0</td>\n",
              "      <td>0</td>\n",
              "      <td>1341</td>\n",
              "      <td>1906</td>\n",
              "    </tr>\n",
              "    <tr>\n",
              "      <th>лежание</th>\n",
              "      <td>0</td>\n",
              "      <td>330</td>\n",
              "      <td>0</td>\n",
              "      <td>5</td>\n",
              "      <td>1556</td>\n",
              "      <td>53</td>\n",
              "      <td>1944</td>\n",
              "    </tr>\n",
              "    <tr>\n",
              "      <th>все</th>\n",
              "      <td>1926</td>\n",
              "      <td>1348</td>\n",
              "      <td>279</td>\n",
              "      <td>2471</td>\n",
              "      <td>1647</td>\n",
              "      <td>2628</td>\n",
              "      <td>10299</td>\n",
              "    </tr>\n",
              "  </tbody>\n",
              "</table>\n",
              "</div>"
            ],
            "text/plain": [
              "                          cluster1  cluster2  ...  cluster6    все\n",
              "ходьба                         740         0  ...         0   1722\n",
              "подъем вверх по лестнице       296         2  ...         0   1544\n",
              "спуск по лестнице              890         0  ...         0   1406\n",
              "сидение                          0       451  ...      1234   1777\n",
              "стояние                          0       565  ...      1341   1906\n",
              "лежание                          0       330  ...        53   1944\n",
              "все                           1926      1348  ...      2628  10299\n",
              "\n",
              "[7 rows x 7 columns]"
            ]
          },
          "metadata": {},
          "execution_count": 44
        }
      ]
    },
    {
      "cell_type": "markdown",
      "metadata": {
        "id": "Cw4ZT8SLSnBQ"
      },
      "source": [
        "Видим, что каждому классу (т.е. каждой активности) соответствуют несколько кластеров. Давайте посмотрим на максимальную долю объектов в классе, отнесенных к какому-то одному кластеру. Это будет простой метрикой, характеризующей, насколько легко класс отделяется от других при кластеризации. \n",
        "\n",
        "Пример: если для класса \"спуск по лестнице\", в котором 1406 объектов,  распределение кластеров такое:\n",
        " - кластер 1 – 900\n",
        " - кластер 3 – 500\n",
        " - кластер 6 – 6,\n",
        " \n",
        "то такая доля будет 900 / 1406 $\\approx$ 0.64.\n",
        " \n",
        "\n",
        "**Вопрос 4:**<br>\n",
        "Какой вид активности отделился от остальных лучше всего в терминах простой  метрики, описанной выше?<br>\n",
        "\n",
        "**Ответ:**\n",
        "- ходьба\n",
        "- стояние\n",
        "- спуск по лестнице\n",
        "- перечисленные варианты не подходят"
      ]
    },
    {
      "cell_type": "markdown",
      "metadata": {
        "id": "6-hyMSxr07JI"
      },
      "source": [
        "<font color='Green'> Лежание"
      ]
    },
    {
      "cell_type": "markdown",
      "metadata": {
        "id": "80o52zo7SnBR"
      },
      "source": [
        "Видно, что kMeans не очень хорошо отличает только активности друг от друга. Используйте метод локтя, чтобы выбрать оптимальное количество кластеров. Параметры алгоритма и данные используем те же, что раньше, меняем только `n_clusters`."
      ]
    },
    {
      "cell_type": "code",
      "metadata": {
        "trusted": false,
        "colab": {
          "base_uri": "https://localhost:8080/",
          "height": 362,
          "referenced_widgets": [
            "218aed2843b94ae38a80bccad6ea2a9a",
            "1d9b8b7e0bd9429caf0518f5d9c70ba8",
            "047ef7db9bd9447b8deecdae73b3ee18",
            "1afc0580a3e140d9b2f26ff63db5df4d",
            "45bc6f492ec84964baeaab80b90c7114",
            "90ccb736c4374845a1b687ee5f692b59",
            "763cf101f86444f988dbcadf41afc8c5",
            "454c7e2a45d74dc484a90753f38c2f3a",
            "1044c22444c24ab0ae159be7e0f4b362",
            "ab32ce6dbc924be98e1edcb2a07b05f6",
            "1dff8e2409984c57bc8a53c23c30762c"
          ]
        },
        "id": "tUUrmCgtSnBR",
        "outputId": "47083431-a3b4-429d-9b42-550785994c92"
      },
      "source": [
        "# Ваш код здесь\n",
        "inertia = []\n",
        "for k in tqdm_notebook(range(1, n_classes + 1)):\n",
        "    kmeans = KMeans(n_clusters=k, random_state=1).fit(X_reduced_clustered)\n",
        "    inertia.append(np.sqrt(kmeans.inertia_))\n",
        "\n",
        "plt.plot(range(1, n_classes+1), inertia)"
      ],
      "execution_count": null,
      "outputs": [
        {
          "output_type": "stream",
          "text": [
            "/usr/local/lib/python3.7/dist-packages/ipykernel_launcher.py:3: TqdmDeprecationWarning: This function will be removed in tqdm==5.0.0\n",
            "Please use `tqdm.notebook.tqdm` instead of `tqdm.tqdm_notebook`\n",
            "  This is separate from the ipykernel package so we can avoid doing imports until\n"
          ],
          "name": "stderr"
        },
        {
          "output_type": "display_data",
          "data": {
            "application/vnd.jupyter.widget-view+json": {
              "model_id": "218aed2843b94ae38a80bccad6ea2a9a",
              "version_minor": 0,
              "version_major": 2
            },
            "text/plain": [
              "  0%|          | 0/6 [00:00<?, ?it/s]"
            ]
          },
          "metadata": {}
        },
        {
          "output_type": "execute_result",
          "data": {
            "text/plain": [
              "[<matplotlib.lines.Line2D at 0x7f8c6edffb50>]"
            ]
          },
          "metadata": {},
          "execution_count": 47
        },
        {
          "output_type": "display_data",
          "data": {
            "image/png": "[encoded data removed]",
            "text/plain": [
              "<Figure size 432x288 with 1 Axes>"
            ]
          },
          "metadata": {
            "needs_background": "light"
          }
        }
      ]
    },
    {
      "cell_type": "markdown",
      "metadata": {
        "id": "4-pkqsWdSnBS"
      },
      "source": [
        "**Вопрос 5:**<br>\n",
        "Какое количество кластеров оптимально выбрать, согласно методу локтя?<br>\n",
        "\n",
        "**Ответ:**\n",
        "- 1\n",
        "- 2\n",
        "- 3\n",
        "- 4"
      ]
    },
    {
      "cell_type": "markdown",
      "metadata": {
        "id": "PaiP6q6x104s"
      },
      "source": [
        "<font color = 'Green'> \n",
        "<font size=7> 2"
      ]
    },
    {
      "cell_type": "markdown",
      "metadata": {
        "id": "UuQ1QCAQSnBS"
      },
      "source": [
        "------------------------"
      ]
    },
    {
      "cell_type": "markdown",
      "metadata": {
        "id": "fL295nTlSnBS"
      },
      "source": [
        "Попробуем еще один метод кластеризации, который описывался в статье – агломеративную кластеризацию."
      ]
    },
    {
      "cell_type": "code",
      "metadata": {
        "collapsed": true,
        "trusted": false,
        "id": "YuH6zXhJSnBS"
      },
      "source": [
        "ag = AgglomerativeClustering(n_clusters=n_classes, \n",
        "                             linkage='ward').fit(X_reduced)"
      ],
      "execution_count": null,
      "outputs": []
    },
    {
      "cell_type": "markdown",
      "metadata": {
        "id": "4C2Vla4PSnBS"
      },
      "source": [
        "Посчитайте Adjusted Rand Index (`sklearn.metrics`) для получившегося разбиения на кластеры и для `KMeans` с параметрами из задания к 4 вопросу."
      ]
    },
    {
      "cell_type": "code",
      "metadata": {
        "collapsed": true,
        "trusted": false,
        "id": "oojNNzLrSnBT"
      },
      "source": [
        "from sklearn.metrics import adjusted_rand_score"
      ],
      "execution_count": null,
      "outputs": []
    },
    {
      "cell_type": "code",
      "metadata": {
        "colab": {
          "base_uri": "https://localhost:8080/"
        },
        "id": "uWKOEA6U2KQP",
        "outputId": "2dddb657-7cca-4f99-8933-acef6b8ab1b4"
      },
      "source": [
        "adjusted_rand_score(y, ag.fit_predict(X_reduced))"
      ],
      "execution_count": null,
      "outputs": [
        {
          "output_type": "execute_result",
          "data": {
            "text/plain": [
              "0.5177704539566773"
            ]
          },
          "metadata": {},
          "execution_count": 56
        }
      ]
    },
    {
      "cell_type": "code",
      "metadata": {
        "colab": {
          "base_uri": "https://localhost:8080/"
        },
        "id": "tPeJQDe23BjJ",
        "outputId": "b60db80c-5f0d-4220-e914-530c63b180a5"
      },
      "source": [
        "adjusted_rand_score(y, kmeans.fit_predict(X_reduced))"
      ],
      "execution_count": null,
      "outputs": [
        {
          "output_type": "execute_result",
          "data": {
            "text/plain": [
              "0.41972086295158306"
            ]
          },
          "metadata": {},
          "execution_count": 58
        }
      ]
    },
    {
      "cell_type": "markdown",
      "metadata": {
        "id": "JCRMetH2SnBT"
      },
      "source": [
        "**Вопрос 6:**<br>\n",
        "Отметьте все верные утверждения.<br>\n",
        "\n",
        "**Варианты:**\n",
        "- Согласно ARI, KMeans справился с кластеризацией хуже, чем Agglomerative Clustering\n",
        "- Для ARI не имеет значения какие именно метки присвоены кластерам, имеет значение только разбиение объектов на кластеры\n",
        "- В случае случайного разбиения на кластеры ARI будет близок к нулю"
      ]
    },
    {
      "cell_type": "markdown",
      "metadata": {
        "id": "H4A3ZEx13bB_"
      },
      "source": [
        "<font color = 'Green'> \n",
        "<font size=7> 1, 3"
      ]
    },
    {
      "cell_type": "markdown",
      "metadata": {
        "id": "yDPhU-opSnBT"
      },
      "source": [
        "-------------------------------"
      ]
    },
    {
      "cell_type": "markdown",
      "metadata": {
        "id": "H9zxsDS2SnBT"
      },
      "source": [
        "Можно заметить, что задача не очень хорошо решается именно как задача кластеризации, если выделять несколько кластеров (> 2). Давайте теперь решим задачу классификации, вспомнив, что данные у нас размечены.  \n",
        "\n",
        "Для классификации используйте метод опорных векторов – класс `sklearn.svm.LinearSVC`. Мы в курсе отдельно не рассматривали этот алгоритм, но он очень известен, почитать про него можно, например, в материалах Евгения Соколова –  [тут](https://github.com/esokolov/ml-course-msu/blob/master/ML16/lecture-notes/Sem11_linear.pdf). \n",
        "\n",
        "Настройте для `LinearSVC` гиперпараметр `C` с помощью `GridSearchCV`. \n",
        "\n",
        "- Обучите новый `StandardScaler` на обучающей выборке (со всеми исходными признаками), прмиените масштабирование к тестовой выборке\n",
        "- В `GridSearchCV` укажите  cv=3."
      ]
    },
    {
      "cell_type": "code",
      "metadata": {
        "collapsed": true,
        "trusted": false,
        "id": "ueD_q1F5SnBT"
      },
      "source": [
        "# Ваш код здесь\n",
        "#\n",
        "X_train_scaled = scaler.fit_transform(X_train)\n",
        "X_test_scaled = scaler.fit_transform(X_test)"
      ],
      "execution_count": null,
      "outputs": []
    },
    {
      "cell_type": "code",
      "metadata": {
        "collapsed": true,
        "trusted": false,
        "id": "eTt_03VuSnBU"
      },
      "source": [
        "svc = LinearSVC(random_state=RANDOM_STATE)\n",
        "svc_params = {'C': [0.001, 0.01, 0.1, 1, 10]}"
      ],
      "execution_count": null,
      "outputs": []
    },
    {
      "cell_type": "code",
      "metadata": {
        "collapsed": true,
        "trusted": false,
        "id": "n8fxW6_cSnBU",
        "colab": {
          "base_uri": "https://localhost:8080/"
        },
        "outputId": "22a193d7-e29d-4cfe-d299-fc141bbdcc67"
      },
      "source": [
        "gs_svc = GridSearchCV(svc, param_grid=svc_params, cv=3)\n",
        "best_svc = gs_svc.fit(X_train_scaled, y_train).best_estimator_"
      ],
      "execution_count": null,
      "outputs": [
        {
          "output_type": "stream",
          "text": [
            "/usr/local/lib/python3.7/dist-packages/sklearn/svm/_base.py:947: ConvergenceWarning: Liblinear failed to converge, increase the number of iterations.\n",
            "  \"the number of iterations.\", ConvergenceWarning)\n",
            "/usr/local/lib/python3.7/dist-packages/sklearn/svm/_base.py:947: ConvergenceWarning: Liblinear failed to converge, increase the number of iterations.\n",
            "  \"the number of iterations.\", ConvergenceWarning)\n",
            "/usr/local/lib/python3.7/dist-packages/sklearn/svm/_base.py:947: ConvergenceWarning: Liblinear failed to converge, increase the number of iterations.\n",
            "  \"the number of iterations.\", ConvergenceWarning)\n",
            "/usr/local/lib/python3.7/dist-packages/sklearn/svm/_base.py:947: ConvergenceWarning: Liblinear failed to converge, increase the number of iterations.\n",
            "  \"the number of iterations.\", ConvergenceWarning)\n",
            "/usr/local/lib/python3.7/dist-packages/sklearn/svm/_base.py:947: ConvergenceWarning: Liblinear failed to converge, increase the number of iterations.\n",
            "  \"the number of iterations.\", ConvergenceWarning)\n",
            "/usr/local/lib/python3.7/dist-packages/sklearn/svm/_base.py:947: ConvergenceWarning: Liblinear failed to converge, increase the number of iterations.\n",
            "  \"the number of iterations.\", ConvergenceWarning)\n",
            "/usr/local/lib/python3.7/dist-packages/sklearn/svm/_base.py:947: ConvergenceWarning: Liblinear failed to converge, increase the number of iterations.\n",
            "  \"the number of iterations.\", ConvergenceWarning)\n",
            "/usr/local/lib/python3.7/dist-packages/sklearn/svm/_base.py:947: ConvergenceWarning: Liblinear failed to converge, increase the number of iterations.\n",
            "  \"the number of iterations.\", ConvergenceWarning)\n",
            "/usr/local/lib/python3.7/dist-packages/sklearn/svm/_base.py:947: ConvergenceWarning: Liblinear failed to converge, increase the number of iterations.\n",
            "  \"the number of iterations.\", ConvergenceWarning)\n",
            "/usr/local/lib/python3.7/dist-packages/sklearn/svm/_base.py:947: ConvergenceWarning: Liblinear failed to converge, increase the number of iterations.\n",
            "  \"the number of iterations.\", ConvergenceWarning)\n"
          ],
          "name": "stderr"
        }
      ]
    },
    {
      "cell_type": "markdown",
      "metadata": {
        "id": "RsPazVnVSnBU"
      },
      "source": [
        "**Вопрос 7**<br>\n",
        "Какое значение гиперпараметра `C` было выбрано лучшим по итогам кросс-валидации?<br>\n",
        "\n",
        "**Ответ:**\n",
        "- 0.001\n",
        "- 0.01\n",
        "- 0.1\n",
        "- 1\n",
        "- 10"
      ]
    },
    {
      "cell_type": "code",
      "metadata": {
        "collapsed": true,
        "trusted": false,
        "id": "zZ2JbmtJSnBU",
        "colab": {
          "base_uri": "https://localhost:8080/"
        },
        "outputId": "f9fdd1b2-4c62-4529-e08d-04f289f94dea"
      },
      "source": [
        "best_svc.get_params()['C']"
      ],
      "execution_count": null,
      "outputs": [
        {
          "output_type": "execute_result",
          "data": {
            "text/plain": [
              "0.1"
            ]
          },
          "metadata": {},
          "execution_count": 63
        }
      ]
    },
    {
      "cell_type": "code",
      "metadata": {
        "collapsed": true,
        "trusted": false,
        "id": "i0QlbMsLSnBU"
      },
      "source": [
        "y_predicted = best_svc.predict(X_test_scaled)"
      ],
      "execution_count": null,
      "outputs": []
    },
    {
      "cell_type": "code",
      "metadata": {
        "collapsed": true,
        "trusted": false,
        "id": "vSVG0hVwSnBV",
        "colab": {
          "base_uri": "https://localhost:8080/",
          "height": 254
        },
        "outputId": "e505d98b-fc1a-4454-8107-0e83009bad61"
      },
      "source": [
        "tab = pd.crosstab(y_test, y_predicted, margins=True)\n",
        "tab.index = ['ходьба', 'подъем вверх по лестнице', 'спуск по лестнице', \n",
        "             'сидение', 'стояние', 'лежание', 'все']\n",
        "tab.columns = tab.index\n",
        "tab"
      ],
      "execution_count": 66,
      "outputs": [
        {
          "output_type": "execute_result",
          "data": {
            "text/html": [
              "<div>\n",
              "<style scoped>\n",
              "    .dataframe tbody tr th:only-of-type {\n",
              "        vertical-align: middle;\n",
              "    }\n",
              "\n",
              "    .dataframe tbody tr th {\n",
              "        vertical-align: top;\n",
              "    }\n",
              "\n",
              "    .dataframe thead th {\n",
              "        text-align: right;\n",
              "    }\n",
              "</style>\n",
              "<table border=\"1\" class=\"dataframe\">\n",
              "  <thead>\n",
              "    <tr style=\"text-align: right;\">\n",
              "      <th></th>\n",
              "      <th>ходьба</th>\n",
              "      <th>подъем вверх по лестнице</th>\n",
              "      <th>спуск по лестнице</th>\n",
              "      <th>сидение</th>\n",
              "      <th>стояние</th>\n",
              "      <th>лежание</th>\n",
              "      <th>все</th>\n",
              "    </tr>\n",
              "  </thead>\n",
              "  <tbody>\n",
              "    <tr>\n",
              "      <th>ходьба</th>\n",
              "      <td>479</td>\n",
              "      <td>11</td>\n",
              "      <td>4</td>\n",
              "      <td>2</td>\n",
              "      <td>0</td>\n",
              "      <td>0</td>\n",
              "      <td>496</td>\n",
              "    </tr>\n",
              "    <tr>\n",
              "      <th>подъем вверх по лестнице</th>\n",
              "      <td>4</td>\n",
              "      <td>465</td>\n",
              "      <td>1</td>\n",
              "      <td>1</td>\n",
              "      <td>0</td>\n",
              "      <td>0</td>\n",
              "      <td>471</td>\n",
              "    </tr>\n",
              "    <tr>\n",
              "      <th>спуск по лестнице</th>\n",
              "      <td>1</td>\n",
              "      <td>2</td>\n",
              "      <td>416</td>\n",
              "      <td>1</td>\n",
              "      <td>0</td>\n",
              "      <td>0</td>\n",
              "      <td>420</td>\n",
              "    </tr>\n",
              "    <tr>\n",
              "      <th>сидение</th>\n",
              "      <td>0</td>\n",
              "      <td>4</td>\n",
              "      <td>0</td>\n",
              "      <td>433</td>\n",
              "      <td>52</td>\n",
              "      <td>2</td>\n",
              "      <td>491</td>\n",
              "    </tr>\n",
              "    <tr>\n",
              "      <th>стояние</th>\n",
              "      <td>0</td>\n",
              "      <td>0</td>\n",
              "      <td>0</td>\n",
              "      <td>16</td>\n",
              "      <td>516</td>\n",
              "      <td>0</td>\n",
              "      <td>532</td>\n",
              "    </tr>\n",
              "    <tr>\n",
              "      <th>лежание</th>\n",
              "      <td>0</td>\n",
              "      <td>0</td>\n",
              "      <td>0</td>\n",
              "      <td>0</td>\n",
              "      <td>6</td>\n",
              "      <td>531</td>\n",
              "      <td>537</td>\n",
              "    </tr>\n",
              "    <tr>\n",
              "      <th>все</th>\n",
              "      <td>484</td>\n",
              "      <td>482</td>\n",
              "      <td>421</td>\n",
              "      <td>453</td>\n",
              "      <td>574</td>\n",
              "      <td>533</td>\n",
              "      <td>2947</td>\n",
              "    </tr>\n",
              "  </tbody>\n",
              "</table>\n",
              "</div>"
            ],
            "text/plain": [
              "                          ходьба  подъем вверх по лестнице  ...  лежание   все\n",
              "ходьба                       479                        11  ...        0   496\n",
              "подъем вверх по лестнице       4                       465  ...        0   471\n",
              "спуск по лестнице              1                         2  ...        0   420\n",
              "сидение                        0                         4  ...        2   491\n",
              "стояние                        0                         0  ...        0   532\n",
              "лежание                        0                         0  ...      531   537\n",
              "все                          484                       482  ...      533  2947\n",
              "\n",
              "[7 rows x 7 columns]"
            ]
          },
          "metadata": {},
          "execution_count": 66
        }
      ]
    },
    {
      "cell_type": "markdown",
      "metadata": {
        "id": "PRXEqdipSnBV"
      },
      "source": [
        "**Вопрос 8:**<br>\n",
        "Какой вид активности SVM определяет хуже всего в терминах точности? Полноты? <br>\n",
        "\n",
        "**Ответ:**\n",
        "- по точности – подъем вверх по лестнице, по полноте – лежание\n",
        "- по точности – лежание, по полноте – сидение\n",
        "- по точности – ходьба, по полноте – ходьба\n",
        "- по точности – стояние, по полноте – сидение "
      ]
    },
    {
      "cell_type": "markdown",
      "metadata": {
        "id": "zJqGvzmR623T"
      },
      "source": [
        "<font color = 'Green'> \n",
        "<font size=7> 4"
      ]
    },
    {
      "cell_type": "markdown",
      "metadata": {
        "id": "omewCQKdSnBV"
      },
      "source": [
        "**Вопрос 9:**<br>\n",
        "Выберите все верные утверждения:\n",
        "\n",
        "**Варианты:**\n",
        "- Метод главных компонент в данном случае позволил уменьшить время обучения модели, при этом качество (доля верных ответов на кросс-валидации) очень пострадало, более чем на 10%\n",
        "- PCA можно использовать для визуализации данных, однако для этой задачи есть и лучше подходящие методы, например, tSNE. Зато PCA имеет меньшую вычислительную сложность\n",
        "- PCA строит линейные комбинации исходных признаков, и в некоторых задачах они могут плохо интерпретироваться человеком"
      ]
    },
    {
      "cell_type": "markdown",
      "metadata": {
        "id": "DN0W16df7ZGZ"
      },
      "source": [
        "<font color = 'Green'> \n",
        "<font size=7> 2,3"
      ]
    }
  ]
}